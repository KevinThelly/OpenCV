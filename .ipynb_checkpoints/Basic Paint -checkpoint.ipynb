{
 "cells": [
  {
   "cell_type": "code",
   "execution_count": 6,
   "metadata": {},
   "outputs": [],
   "source": [
    "import numpy as np\n",
    "import cv2\n",
    "import matplotlib.pyplot as plt"
   ]
  },
  {
   "cell_type": "code",
   "execution_count": 22,
   "metadata": {},
   "outputs": [],
   "source": [
    "def draw_circle(event,x,y,flags,param):\n",
    "    \n",
    "    if event==cv2.EVENT_LBUTTONDOWN:\n",
    "        cv2.circle(bkg,(x,y),10,(0,255,0),-1)\n",
    "        \n",
    "    elif event==cv2.EVENT_RBUTTONDOWN:\n",
    "        cv2.circle(bkg,(x,y),10,(255,0,0),-1)\n",
    "        \n",
    "    cv2.imshow('paint',bkg)"
   ]
  },
  {
   "cell_type": "code",
   "execution_count": 23,
   "metadata": {},
   "outputs": [
    {
     "data": {
      "text/plain": [
       "-1"
      ]
     },
     "execution_count": 23,
     "metadata": {},
     "output_type": "execute_result"
    }
   ],
   "source": [
    "cv2.namedWindow(winname='paint')\n",
    "cv2.setMouseCallback('paint',draw_circle)\n",
    "\n",
    "bkg=np.zeros((512,512,3))\n",
    "cv2.imshow('paint',bkg)\n",
    "cv2.waitKey()"
   ]
  },
  {
   "cell_type": "code",
   "execution_count": null,
   "metadata": {},
   "outputs": [],
   "source": []
  }
 ],
 "metadata": {
  "kernelspec": {
   "display_name": "Python 3",
   "language": "python",
   "name": "python3"
  },
  "language_info": {
   "codemirror_mode": {
    "name": "ipython",
    "version": 3
   },
   "file_extension": ".py",
   "mimetype": "text/x-python",
   "name": "python",
   "nbconvert_exporter": "python",
   "pygments_lexer": "ipython3",
   "version": "3.7.2"
  }
 },
 "nbformat": 4,
 "nbformat_minor": 2
}
