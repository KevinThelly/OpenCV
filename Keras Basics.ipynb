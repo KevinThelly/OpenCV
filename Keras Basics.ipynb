{
 "cells": [
  {
   "cell_type": "code",
   "execution_count": 48,
   "metadata": {},
   "outputs": [],
   "source": [
    "import numpy as np\n",
    "from numpy import genfromtxt\n",
    "#genfromtxt generates an array from a text file"
   ]
  },
  {
   "cell_type": "code",
   "execution_count": 49,
   "metadata": {},
   "outputs": [],
   "source": [
    "data= genfromtxt('DATA/bank_note_data.txt',delimiter=',')"
   ]
  },
  {
   "cell_type": "code",
   "execution_count": 50,
   "metadata": {},
   "outputs": [
    {
     "data": {
      "text/plain": [
       "array([[  3.6216 ,   8.6661 ,  -2.8073 ,  -0.44699,   0.     ],\n",
       "       [  4.5459 ,   8.1674 ,  -2.4586 ,  -1.4621 ,   0.     ],\n",
       "       [  3.866  ,  -2.6383 ,   1.9242 ,   0.10645,   0.     ],\n",
       "       ...,\n",
       "       [ -3.7503 , -13.4586 ,  17.5932 ,  -2.7771 ,   1.     ],\n",
       "       [ -3.5637 ,  -8.3827 ,  12.393  ,  -1.2823 ,   1.     ],\n",
       "       [ -2.5419 ,  -0.65804,   2.6842 ,   1.1952 ,   1.     ]])"
      ]
     },
     "execution_count": 50,
     "metadata": {},
     "output_type": "execute_result"
    }
   ],
   "source": [
    "data"
   ]
  },
  {
   "cell_type": "code",
   "execution_count": 51,
   "metadata": {},
   "outputs": [
    {
     "data": {
      "text/plain": [
       "array([0., 0., 0., ..., 1., 1., 1.])"
      ]
     },
     "execution_count": 51,
     "metadata": {},
     "output_type": "execute_result"
    }
   ],
   "source": [
    "label= data[:,4]\n",
    "label"
   ]
  },
  {
   "cell_type": "code",
   "execution_count": 52,
   "metadata": {},
   "outputs": [
    {
     "data": {
      "text/plain": [
       "array([[  3.6216 ,   8.6661 ,  -2.8073 ,  -0.44699],\n",
       "       [  4.5459 ,   8.1674 ,  -2.4586 ,  -1.4621 ],\n",
       "       [  3.866  ,  -2.6383 ,   1.9242 ,   0.10645],\n",
       "       ...,\n",
       "       [ -3.7503 , -13.4586 ,  17.5932 ,  -2.7771 ],\n",
       "       [ -3.5637 ,  -8.3827 ,  12.393  ,  -1.2823 ],\n",
       "       [ -2.5419 ,  -0.65804,   2.6842 ,   1.1952 ]])"
      ]
     },
     "execution_count": 52,
     "metadata": {},
     "output_type": "execute_result"
    }
   ],
   "source": [
    "features=data[:,0:4]\n",
    "features"
   ]
  },
  {
   "cell_type": "code",
   "execution_count": 53,
   "metadata": {},
   "outputs": [],
   "source": [
    "X=features\n",
    "y=label"
   ]
  },
  {
   "cell_type": "code",
   "execution_count": 54,
   "metadata": {},
   "outputs": [],
   "source": [
    "from sklearn.model_selection import train_test_split\n"
   ]
  },
  {
   "cell_type": "code",
   "execution_count": 55,
   "metadata": {},
   "outputs": [],
   "source": [
    "X_train,X_test,y_train,y_test = train_test_split(X,y,test_size=0.33,random_state=42)"
   ]
  },
  {
   "cell_type": "code",
   "execution_count": 56,
   "metadata": {},
   "outputs": [],
   "source": [
    "from sklearn.preprocessing import MinMaxScaler\n",
    "scaler_object=MinMaxScaler()\n",
    "#for scaling everything in the range 1-0"
   ]
  },
  {
   "cell_type": "code",
   "execution_count": 57,
   "metadata": {},
   "outputs": [
    {
     "data": {
      "text/plain": [
       "MinMaxScaler(copy=True, feature_range=(0, 1))"
      ]
     },
     "execution_count": 57,
     "metadata": {},
     "output_type": "execute_result"
    }
   ],
   "source": [
    "scaler_object.fit(X_train)\n",
    "#fit only the training data data and never the test data\n",
    "#test data should never be shown to any model"
   ]
  },
  {
   "cell_type": "code",
   "execution_count": 58,
   "metadata": {},
   "outputs": [],
   "source": [
    "scaled_X_train=scaler_object.transform(X_train)\n",
    "scaled_X_test=scaler_object.transform(X_test)"
   ]
  },
  {
   "cell_type": "code",
   "execution_count": 59,
   "metadata": {},
   "outputs": [
    {
     "data": {
      "text/plain": [
       "1.0000000000000002"
      ]
     },
     "execution_count": 59,
     "metadata": {},
     "output_type": "execute_result"
    }
   ],
   "source": [
    "scaled_X_train.max()"
   ]
  },
  {
   "cell_type": "code",
   "execution_count": 60,
   "metadata": {},
   "outputs": [
    {
     "data": {
      "text/plain": [
       "0.0"
      ]
     },
     "execution_count": 60,
     "metadata": {},
     "output_type": "execute_result"
    }
   ],
   "source": [
    "scaled_X_train.min()"
   ]
  },
  {
   "cell_type": "code",
   "execution_count": 61,
   "metadata": {},
   "outputs": [
    {
     "data": {
      "text/plain": [
       "array([[4.44850688e-01, 5.14130449e-01, 2.18194638e-01, 8.50172258e-01],\n",
       "       [6.53339968e-01, 5.82655745e-01, 9.93242398e-02, 8.17696322e-01],\n",
       "       [4.81846700e-01, 6.69377018e-01, 3.61193167e-01, 7.63368407e-01],\n",
       "       ...,\n",
       "       [4.11050776e-04, 8.63104170e-01, 2.34046756e-01, 3.74261253e-01],\n",
       "       [2.58284115e-01, 6.16029366e-01, 2.33861752e-01, 7.02643151e-01],\n",
       "       [2.65661395e-01, 2.44444278e-01, 7.20316361e-01, 7.44775785e-01]])"
      ]
     },
     "execution_count": 61,
     "metadata": {},
     "output_type": "execute_result"
    }
   ],
   "source": [
    "scaled_X_train\n",
    "#everything is between 0 and 1"
   ]
  },
  {
   "cell_type": "code",
   "execution_count": 62,
   "metadata": {},
   "outputs": [],
   "source": [
    "from keras.models import Sequential\n",
    "from keras.layers import Dense"
   ]
  },
  {
   "cell_type": "code",
   "execution_count": 63,
   "metadata": {},
   "outputs": [],
   "source": [
    "model=Sequential()\n",
    "#creating the model\n",
    "\n",
    "#4 input features, 4 ouptuts and using rectifier linier unit\n",
    "model.add(Dense(4,input_dim=4,activation='relu'))\n",
    "\n",
    "#hidden layer\n",
    "model.add(Dense(8,activation='relu'))\n",
    "\n",
    "#output layer, sigmoid function is used for the output to be as 0 or 1\n",
    "model.add(Dense(1,activation='sigmoid'))"
   ]
  },
  {
   "cell_type": "code",
   "execution_count": 64,
   "metadata": {},
   "outputs": [],
   "source": [
    "model.compile(loss='binary_crossentropy',optimizer='adam',metrics=['accuracy'])\n",
    "#using the crossentropy cost function"
   ]
  },
  {
   "cell_type": "code",
   "execution_count": 65,
   "metadata": {
    "collapsed": true
   },
   "outputs": [
    {
     "name": "stdout",
     "output_type": "stream",
     "text": [
      "Epoch 1/50\n",
      " - 1s - loss: 0.6858 - acc: 0.5517\n",
      "Epoch 2/50\n",
      " - 0s - loss: 0.6724 - acc: 0.6975\n",
      "Epoch 3/50\n",
      " - 0s - loss: 0.6538 - acc: 0.7291\n",
      "Epoch 4/50\n",
      " - 0s - loss: 0.6296 - acc: 0.7486\n",
      "Epoch 5/50\n",
      " - 0s - loss: 0.5981 - acc: 0.7671\n",
      "Epoch 6/50\n",
      " - 0s - loss: 0.5630 - acc: 0.7726\n",
      "Epoch 7/50\n",
      " - 0s - loss: 0.5351 - acc: 0.7791\n",
      "Epoch 8/50\n",
      " - 0s - loss: 0.5117 - acc: 0.7943\n",
      "Epoch 9/50\n",
      " - 0s - loss: 0.4912 - acc: 0.8052\n",
      "Epoch 10/50\n",
      " - 0s - loss: 0.4715 - acc: 0.8150\n",
      "Epoch 11/50\n",
      " - 0s - loss: 0.4542 - acc: 0.8172\n",
      "Epoch 12/50\n",
      " - 0s - loss: 0.4380 - acc: 0.8215\n",
      "Epoch 13/50\n",
      " - 0s - loss: 0.4230 - acc: 0.8357\n",
      "Epoch 14/50\n",
      " - 0s - loss: 0.4085 - acc: 0.8531\n",
      "Epoch 15/50\n",
      " - 0s - loss: 0.3952 - acc: 0.8716\n",
      "Epoch 16/50\n",
      " - 0s - loss: 0.3824 - acc: 0.8705\n",
      "Epoch 17/50\n",
      " - 0s - loss: 0.3703 - acc: 0.8803\n",
      "Epoch 18/50\n",
      " - 0s - loss: 0.3585 - acc: 0.8868\n",
      "Epoch 19/50\n",
      " - 0s - loss: 0.3479 - acc: 0.8901\n",
      "Epoch 20/50\n",
      " - 0s - loss: 0.3373 - acc: 0.8934\n",
      "Epoch 21/50\n",
      " - 0s - loss: 0.3282 - acc: 0.8966\n",
      "Epoch 22/50\n",
      " - 0s - loss: 0.3192 - acc: 0.8955\n",
      "Epoch 23/50\n",
      " - 0s - loss: 0.3101 - acc: 0.9021\n",
      "Epoch 24/50\n",
      " - 0s - loss: 0.3019 - acc: 0.9032\n",
      "Epoch 25/50\n",
      " - 0s - loss: 0.2941 - acc: 0.9042\n",
      "Epoch 26/50\n",
      " - 0s - loss: 0.2867 - acc: 0.9075\n",
      "Epoch 27/50\n",
      " - 0s - loss: 0.2801 - acc: 0.9021\n",
      "Epoch 28/50\n",
      " - 0s - loss: 0.2730 - acc: 0.9086\n",
      "Epoch 29/50\n",
      " - 0s - loss: 0.2664 - acc: 0.9119\n",
      "Epoch 30/50\n",
      " - 0s - loss: 0.2615 - acc: 0.9151\n",
      "Epoch 31/50\n",
      " - 0s - loss: 0.2540 - acc: 0.9173\n",
      "Epoch 32/50\n",
      " - 0s - loss: 0.2486 - acc: 0.9260\n",
      "Epoch 33/50\n",
      " - 0s - loss: 0.2420 - acc: 0.9282\n",
      "Epoch 34/50\n",
      " - 0s - loss: 0.2363 - acc: 0.9271\n",
      "Epoch 35/50\n",
      " - 0s - loss: 0.2308 - acc: 0.9336\n",
      "Epoch 36/50\n",
      " - 0s - loss: 0.2251 - acc: 0.9325\n",
      "Epoch 37/50\n",
      " - 0s - loss: 0.2201 - acc: 0.9358\n",
      "Epoch 38/50\n",
      " - 0s - loss: 0.2143 - acc: 0.9380\n",
      "Epoch 39/50\n",
      " - 0s - loss: 0.2091 - acc: 0.9369\n",
      "Epoch 40/50\n",
      " - 0s - loss: 0.2055 - acc: 0.9423\n",
      "Epoch 41/50\n",
      " - 0s - loss: 0.2006 - acc: 0.9369\n",
      "Epoch 42/50\n",
      " - 0s - loss: 0.1956 - acc: 0.9478\n",
      "Epoch 43/50\n",
      " - 0s - loss: 0.1912 - acc: 0.9402\n",
      "Epoch 44/50\n",
      " - 0s - loss: 0.1869 - acc: 0.9412\n",
      "Epoch 45/50\n",
      " - 0s - loss: 0.1830 - acc: 0.9423\n",
      "Epoch 46/50\n",
      " - 0s - loss: 0.1794 - acc: 0.9456\n",
      "Epoch 47/50\n",
      " - 0s - loss: 0.1758 - acc: 0.9456\n",
      "Epoch 48/50\n",
      " - 0s - loss: 0.1712 - acc: 0.9423\n",
      "Epoch 49/50\n",
      " - 0s - loss: 0.1682 - acc: 0.9478\n",
      "Epoch 50/50\n",
      " - 0s - loss: 0.1641 - acc: 0.9467\n"
     ]
    },
    {
     "data": {
      "text/plain": [
       "<keras.callbacks.History at 0x1b45314df28>"
      ]
     },
     "execution_count": 65,
     "metadata": {},
     "output_type": "execute_result"
    }
   ],
   "source": [
    "model.fit(scaled_X_train,y_train,epochs=50,verbose=2)"
   ]
  },
  {
   "cell_type": "code",
   "execution_count": 66,
   "metadata": {},
   "outputs": [],
   "source": [
    "from sklearn.metrics import classification_report,confusion_matrix"
   ]
  },
  {
   "cell_type": "code",
   "execution_count": 70,
   "metadata": {},
   "outputs": [
    {
     "data": {
      "text/plain": [
       "array([[252,   5],\n",
       "       [ 18, 178]], dtype=int64)"
      ]
     },
     "execution_count": 70,
     "metadata": {},
     "output_type": "execute_result"
    }
   ],
   "source": [
    "predictions= model.predict_classes(scaled_X_test)\n",
    "confusion_matrix(y_test,predictions)"
   ]
  },
  {
   "cell_type": "code",
   "execution_count": 72,
   "metadata": {},
   "outputs": [
    {
     "name": "stdout",
     "output_type": "stream",
     "text": [
      "              precision    recall  f1-score   support\n",
      "\n",
      "         0.0       0.93      0.98      0.96       257\n",
      "         1.0       0.97      0.91      0.94       196\n",
      "\n",
      "   micro avg       0.95      0.95      0.95       453\n",
      "   macro avg       0.95      0.94      0.95       453\n",
      "weighted avg       0.95      0.95      0.95       453\n",
      "\n"
     ]
    }
   ],
   "source": [
    "print(classification_report(y_test,predictions))"
   ]
  },
  {
   "cell_type": "code",
   "execution_count": 73,
   "metadata": {},
   "outputs": [],
   "source": [
    "model.save('firstmodel.h5')\n",
    "#saving the model for resuing again"
   ]
  },
  {
   "cell_type": "code",
   "execution_count": 75,
   "metadata": {},
   "outputs": [],
   "source": [
    "from keras.models import load_model\n",
    "newmodel=load_model('firstmodel.h5')"
   ]
  },
  {
   "cell_type": "code",
   "execution_count": 78,
   "metadata": {},
   "outputs": [
    {
     "data": {
      "text/plain": [
       "array([[252,   5],\n",
       "       [ 18, 178]], dtype=int64)"
      ]
     },
     "execution_count": 78,
     "metadata": {},
     "output_type": "execute_result"
    }
   ],
   "source": [
    "prediction1=newmodel.predict_classes(scaled_X_test)\n",
    "confusion_matrix(y_test,prediction1)"
   ]
  },
  {
   "cell_type": "code",
   "execution_count": null,
   "metadata": {},
   "outputs": [],
   "source": []
  }
 ],
 "metadata": {
  "kernelspec": {
   "display_name": "Python 3",
   "language": "python",
   "name": "python3"
  },
  "language_info": {
   "codemirror_mode": {
    "name": "ipython",
    "version": 3
   },
   "file_extension": ".py",
   "mimetype": "text/x-python",
   "name": "python",
   "nbconvert_exporter": "python",
   "pygments_lexer": "ipython3",
   "version": "3.7.2"
  }
 },
 "nbformat": 4,
 "nbformat_minor": 2
}
